{
 "cells": [
  {
   "cell_type": "code",
   "execution_count": null,
   "id": "8f8a997f",
   "metadata": {
    "vscode": {
     "languageId": "plaintext"
    }
   },
   "outputs": [],
   "source": [
    "\"\"\"\n",
    "Dataset Validation Notebook\n",
    "Purpose: Verify all configuration values match actual dataset\n",
    "\"\"\""
   ]
  },
  {
   "cell_type": "code",
   "execution_count": null,
   "id": "d68c4e0b",
   "metadata": {
    "vscode": {
     "languageId": "plaintext"
    }
   },
   "outputs": [],
   "source": [
    "import pandas as pd\n",
    "import numpy as np\n",
    "import sys\n",
    "import json\n",
    "import yaml\n",
    "from pathlib import Path"
   ]
  },
  {
   "cell_type": "code",
   "execution_count": null,
   "id": "6bb79e42",
   "metadata": {
    "vscode": {
     "languageId": "plaintext"
    }
   },
   "outputs": [],
   "source": [
    "# Add src to path\n",
    "sys.path.append('../src')\n",
    "\n",
    "from common.constants import *\n",
    "from data_processing.data_loader import DataLoader\n",
    "from data_processing.unit_converter import UnitConverter\n",
    "from data_processing.window_generator import WindowGenerator"
   ]
  },
  {
   "cell_type": "markdown",
   "id": "59160238",
   "metadata": {},
   "source": [
    "# %% [markdown]\n",
    "# # 1. Load and Inspect Raw Data\n",
    "\n",
    "# %%\n",
    "# Load raw CSV files directly to check structure\n",
    "cell_df_raw = pd.read_csv('../data/raw/CellReports.csv')\n",
    "ue_df_raw = pd.read_csv('../data/raw/UEReports.csv')\n",
    "\n",
    "print(\"=== RAW DATA STRUCTURE ===\")\n",
    "print(f\"Cell data shape: {cell_df_raw.shape}\")\n",
    "print(f\"Cell columns: {list(cell_df_raw.columns)}\")\n",
    "print(f\"\\nUE data shape: {ue_df_raw.shape}\")\n",
    "print(f\"UE columns: {list(ue_df_raw.columns)}\")\n",
    "\n",
    "# %% \n",
    "# Verify entity counts\n",
    "print(\"\\n=== ENTITY COUNTS ===\")\n",
    "print(f\"Config expects: {EXPECTED_ENTITIES['cells']} cells, {EXPECTED_ENTITIES['ues']} UEs\")\n",
    "print(f\"Actual: {cell_df_raw['Viavi.Cell.Name'].nunique()} cells, {ue_df_raw['Viavi.UE.Name'].nunique()} UEs\")\n",
    "\n",
    "assert cell_df_raw['Viavi.Cell.Name'].nunique() == EXPECTED_ENTITIES['cells'], \"Cell count mismatch!\"\n",
    "assert ue_df_raw['Viavi.UE.Name'].nunique() == EXPECTED_ENTITIES['ues'], \"UE count mismatch!\"\n",
    "\n",
    "# %%\n",
    "# Check timestamp intervals\n",
    "print(\"\\n=== TIMESTAMP ANALYSIS ===\")\n",
    "cell_df_raw['timestamp_dt'] = pd.to_datetime(cell_df_raw['timestamp'], unit='s')\n",
    "intervals = cell_df_raw.groupby('Viavi.Cell.Name')['timestamp_dt'].diff().dt.total_seconds()\n",
    "print(f\"Timestamp intervals: median={intervals.median()}, mean={intervals.mean():.1f}\")\n",
    "print(f\"Expected from config: {VIAVI_CONFIG['measurement_interval_seconds']} seconds\")\n",
    "\n",
    "# %%\n",
    "# Verify band configuration\n",
    "print(\"\\n=== BAND ANALYSIS ===\")\n",
    "cell_df_raw['Band'] = cell_df_raw['Viavi.Cell.Name'].str.extract(r'S\\d+/([^/]+)/C\\d+')[0]\n",
    "bands_in_data = cell_df_raw['Band'].unique()\n",
    "print(f\"Bands in data: {sorted(bands_in_data)}\")\n",
    "print(f\"Bands in config: {list(BAND_SPECS.keys())}\")\n",
    "\n",
    "for band in bands_in_data:\n",
    "    if band in BAND_SPECS:\n",
    "        max_prb = cell_df_raw[cell_df_raw['Band'] == band]['RRU.PrbAvailDl'].max()\n",
    "        config_prb = BAND_SPECS[band]['prb_count']\n",
    "        print(f\"  {band}: Data max PRB={max_prb}, Config={config_prb}\")\n",
    "\n",
    "# %%\n",
    "# Verify PrbTot is percentage (critical!)\n",
    "print(\"\\n=== PRB TOT VERIFICATION ===\")\n",
    "print(\"PrbTotDl range:\", cell_df_raw['RRU.PrbTotDl'].min(), \"-\", cell_df_raw['RRU.PrbTotDl'].max())\n",
    "print(\"PrbTotUl range:\", cell_df_raw['RRU.PrbTotUl'].min(), \"-\", cell_df_raw['RRU.PrbTotUl'].max())\n",
    "\n",
    "if cell_df_raw['RRU.PrbTotDl'].max() <= 100:\n",
    "    print(\"✓ PrbTot appears to be percentage (0-100)\")\n",
    "else:\n",
    "    print(\"✗ WARNING: PrbTot may not be percentage!\")\n",
    "\n",
    "# %%\n",
    "# Check energy is cumulative\n",
    "print(\"\\n=== ENERGY ANALYSIS ===\")\n",
    "sample_cell = cell_df_raw['Viavi.Cell.Name'].iloc[0]\n",
    "cell_energy = cell_df_raw[cell_df_raw['Viavi.Cell.Name'] == sample_cell].sort_values('timestamp')\n",
    "energy_diff = cell_energy['PEE.Energy'].diff()\n",
    "print(f\"Energy differences for {sample_cell}:\")\n",
    "print(f\"  All positive: {(energy_diff > 0).all()}\")\n",
    "print(f\"  Monotonic increasing: {cell_energy['PEE.Energy'].is_monotonic_increasing}\")\n",
    "print(\"✓ Energy appears cumulative\" if cell_energy['PEE.Energy'].is_monotonic_increasing else \"✗ Energy may not be cumulative\")\n",
    "\n",
    "# %%\n",
    "# Verify expected patterns\n",
    "print(\"\\n=== PATTERN VALIDATION ===\")\n",
    "cqi_zero_rate = (ue_df_raw['DRB.UECqiDl'] == 0).mean()\n",
    "print(f\"CQI zero rate: {cqi_zero_rate:.3f} (expected: {EXPECTED_PATTERNS['cqi_zero_rate']})\")\n",
    "\n",
    "if 'CARR.AverageLayersDl' in cell_df_raw.columns:\n",
    "    mimo_zero_rate = (cell_df_raw['CARR.AverageLayersDl'] == 0).mean()\n",
    "    print(f\"MIMO zero rate: {mimo_zero_rate:.3f} (expected: {EXPECTED_PATTERNS.get('mimo_zero_rate', 'N/A')})\")\n",
    "\n",
    "# Check TB unreliability\n",
    "tb_zero_with_thp = ((ue_df_raw['TB.TotNbrDl'] == 0) & (ue_df_raw['DRB.UEThpDl'] > 0)).mean()\n",
    "print(f\"TB zero despite throughput: {tb_zero_with_thp:.3f} (confirms TB unreliability)\")\n",
    "\n",
    "# %%\n",
    "# Window completeness check\n",
    "print(\"\\n=== WINDOW COMPLETENESS ===\")\n",
    "timestamps = sorted(cell_df_raw['timestamp'].unique())[:5]  # First 5 timestamps\n",
    "window_cells = cell_df_raw[cell_df_raw['timestamp'].isin(timestamps)]\n",
    "window_ues = ue_df_raw[ue_df_raw['timestamp'].isin(timestamps)]\n",
    "\n",
    "print(f\"5-minute window would have:\")\n",
    "print(f\"  Cell records: {len(window_cells)} (expected: {WINDOW_SPECS['expected_records']['cells_per_window']})\")\n",
    "print(f\"  UE records: {len(window_ues)} (expected: {WINDOW_SPECS['expected_records']['ues_per_window']})\")\n",
    "completeness = (len(window_cells) + len(window_ues)) / WINDOW_SPECS['expected_records']['total_per_window']\n",
    "print(f\"  Completeness: {completeness:.3f}\")"
   ]
  }
 ],
 "metadata": {
  "language_info": {
   "name": "python"
  }
 },
 "nbformat": 4,
 "nbformat_minor": 5
}
